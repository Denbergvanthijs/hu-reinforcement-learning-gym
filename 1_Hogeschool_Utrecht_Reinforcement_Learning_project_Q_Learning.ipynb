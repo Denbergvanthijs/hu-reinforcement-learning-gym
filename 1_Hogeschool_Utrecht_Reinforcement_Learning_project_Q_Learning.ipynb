{
  "nbformat": 4,
  "nbformat_minor": 0,
  "metadata": {
    "colab": {
      "name": "1_Hogeschool-Utrecht_Reinforcement-Learning-project_Q-Learning.ipynb",
      "provenance": [],
      "collapsed_sections": [],
      "include_colab_link": true
    },
    "kernelspec": {
      "name": "python3",
      "display_name": "Python 3"
    },
    "accelerator": "TPU"
  },
  "cells": [
    {
      "cell_type": "markdown",
      "metadata": {
        "id": "view-in-github",
        "colab_type": "text"
      },
      "source": [
        "<a href=\"https://colab.research.google.com/github/Denbergvanthijs/hu-reinforcement-learning-gym/blob/master/1_Hogeschool_Utrecht_Reinforcement_Learning_project_Q_Learning.ipynb\" target=\"_parent\"><img src=\"https://colab.research.google.com/assets/colab-badge.svg\" alt=\"Open In Colab\"/></a>"
      ]
    },
    {
      "cell_type": "markdown",
      "metadata": {
        "id": "6eU2QJ--T4dd"
      },
      "source": [
        "# Reinforcement Learning project - Q-Learning\n",
        "\n",
        "\n"
      ]
    },
    {
      "cell_type": "markdown",
      "metadata": {
        "id": "6qdkwbpRUhzO"
      },
      "source": [
        "## Aim\n",
        "In this lab we are going to solve two simple [OpenAI Gym](https://gym.openai.com/) environments using [Q-Learning](https://en.wikipedia.org/wiki/Q-learning). Specifically, the [CartPole-v0](https://gym.openai.com/envs/CartPole-v0/) and [MountainCar-v0](https://gym.openai.com/envs/MountainCar-v0/) environments.\n",
        "\n",
        "We will try to create a table containing the expected reward for each combination of a *state* and *action*. We will use this table to choose the (hopefully) best action given the state the system is in.\n",
        "\n",
        "While this may not be the most advanced or complicated model there is, it is perfect for this task! Furthermore, it can be trained in a relatively short time!\n",
        "\n",
        "## Runtime and environment\n",
        "This [Jupyter Notebook](https://jupyterlab.readthedocs.io/en/latest/) was made to run on Google Colab. For this training, we recommend using the Google Colab environment.\n",
        "\n",
        "Please read the [instructions on Google Colab](https://medium.com/swlh/the-best-place-to-get-started-with-ai-google-colab-tutorial-for-beginners-715e64bb603b) to get started quickly. It behaves similar to Jupyter Notebook, Jupyter Hub and Jupyter Lab, so if you have any experience with those, you're good to go!\n",
        "\n",
        "Some notes on Google Colab:\n",
        "- **Processes in Google Colab won't run forever**. These may be terminated at any time when the platform is crowded, and *will definitely* terminate after 12 hours. To maintain persistency, you can attach the session to **Google Drive** and have your models persist themselves to the Google Drive periodically.\n",
        "- You can enable GPU or TPU support! You can find this option under *Runtime* -> *Change runtime type*.\n",
        "- After installing dependencies, you need to restart the runtime in order to actually use them.\n",
        "\n",
        "If you want to run the code on your own platform or system, you need to keep a few things in mind:\n",
        "- The dependencies you need to install may differ from the ones we installed here. The installed dependencies are suitable for Google Colab, Ubuntu, and Debian.\n",
        "- Since Google Colab isn't attached to a monitor, we render the output to a video file. On your own machine the built-in render method from OpenAI's Gym may suffice.\n",
        "- The default paths use Google Drive! Change these.\n",
        "\n",
        "## Info Support\n",
        "This assignment was developed by Info Support. Looking for a graduation project or job? Check out their website: https://carriere.infosupport.com/\n",
        "\n"
      ]
    },
    {
      "cell_type": "markdown",
      "metadata": {
        "id": "P7mfjQyuT_zV"
      },
      "source": [
        "# Preparation"
      ]
    },
    {
      "cell_type": "markdown",
      "metadata": {
        "id": "d_LwZ18PXsaL"
      },
      "source": [
        "Some dependencies need to be installed for the code to work. Furthermore, we will define some methods which allow us to show the OpenAI Gym renderings in this (headless) Google Colab environment.\n",
        "\n",
        "You only have to run these and don't need to change any of the code."
      ]
    },
    {
      "cell_type": "code",
      "metadata": {
        "id": "PBdwK87YUI9Y",
        "colab": {
          "base_uri": "https://localhost:8080/"
        },
        "outputId": "ab34c42d-1b9c-4ca3-a8e4-51d19d8f4b2b"
      },
      "source": [
        "# Install dependencies\n",
        "\"\"\"Note: if you are running this code on your own machine, you probably don't need all of these.\n",
        "   Start with 'pip install gym' and install more packages if you run into errors.\"\"\"\n",
        "!apt-get update > /dev/null 2>&1\n",
        "!apt-get install -y xvfb python-opengl ffmpeg cmake > /dev/null 2>&1\n",
        "\n",
        "!pip install gym pyvirtualdisplay > /dev/null 2>&1\n",
        "!pip install --upgrade setuptools 2>&1\n",
        "!pip install ez_setup > /dev/null 2>&1\n",
        "!pip install gym[atari] > /dev/null 2>&1\n",
        "!pip install colabgymrender"
      ],
      "execution_count": 1,
      "outputs": [
        {
          "output_type": "stream",
          "text": [
            "Requirement already up-to-date: setuptools in /usr/local/lib/python3.7/dist-packages (56.2.0)\n",
            "Requirement already satisfied: colabgymrender in /usr/local/lib/python3.7/dist-packages (1.0.8)\n",
            "Requirement already satisfied: ipython in /usr/local/lib/python3.7/dist-packages (from colabgymrender) (5.5.0)\n",
            "Requirement already satisfied: opencv-python in /usr/local/lib/python3.7/dist-packages (from colabgymrender) (4.1.2.30)\n",
            "Requirement already satisfied: pyvirtualdisplay in /usr/local/lib/python3.7/dist-packages (from colabgymrender) (2.1)\n",
            "Requirement already satisfied: moviepy in /usr/local/lib/python3.7/dist-packages (from colabgymrender) (0.2.3.5)\n",
            "Requirement already satisfied: pygments in /usr/local/lib/python3.7/dist-packages (from ipython->colabgymrender) (2.6.1)\n",
            "Requirement already satisfied: prompt-toolkit<2.0.0,>=1.0.4 in /usr/local/lib/python3.7/dist-packages (from ipython->colabgymrender) (1.0.18)\n",
            "Requirement already satisfied: setuptools>=18.5 in /usr/local/lib/python3.7/dist-packages (from ipython->colabgymrender) (56.2.0)\n",
            "Requirement already satisfied: traitlets>=4.2 in /usr/local/lib/python3.7/dist-packages (from ipython->colabgymrender) (5.0.5)\n",
            "Requirement already satisfied: pickleshare in /usr/local/lib/python3.7/dist-packages (from ipython->colabgymrender) (0.7.5)\n",
            "Requirement already satisfied: decorator in /usr/local/lib/python3.7/dist-packages (from ipython->colabgymrender) (4.4.2)\n",
            "Requirement already satisfied: simplegeneric>0.8 in /usr/local/lib/python3.7/dist-packages (from ipython->colabgymrender) (0.8.1)\n",
            "Requirement already satisfied: pexpect; sys_platform != \"win32\" in /usr/local/lib/python3.7/dist-packages (from ipython->colabgymrender) (4.8.0)\n",
            "Requirement already satisfied: numpy>=1.14.5 in /usr/local/lib/python3.7/dist-packages (from opencv-python->colabgymrender) (1.19.5)\n",
            "Requirement already satisfied: EasyProcess in /usr/local/lib/python3.7/dist-packages (from pyvirtualdisplay->colabgymrender) (0.3)\n",
            "Requirement already satisfied: imageio<3.0,>=2.1.2 in /usr/local/lib/python3.7/dist-packages (from moviepy->colabgymrender) (2.4.1)\n",
            "Requirement already satisfied: tqdm<5.0,>=4.11.2 in /usr/local/lib/python3.7/dist-packages (from moviepy->colabgymrender) (4.41.1)\n",
            "Requirement already satisfied: wcwidth in /usr/local/lib/python3.7/dist-packages (from prompt-toolkit<2.0.0,>=1.0.4->ipython->colabgymrender) (0.2.5)\n",
            "Requirement already satisfied: six>=1.9.0 in /usr/local/lib/python3.7/dist-packages (from prompt-toolkit<2.0.0,>=1.0.4->ipython->colabgymrender) (1.15.0)\n",
            "Requirement already satisfied: ipython-genutils in /usr/local/lib/python3.7/dist-packages (from traitlets>=4.2->ipython->colabgymrender) (0.2.0)\n",
            "Requirement already satisfied: ptyprocess>=0.5 in /usr/local/lib/python3.7/dist-packages (from pexpect; sys_platform != \"win32\"->ipython->colabgymrender) (0.7.0)\n",
            "Requirement already satisfied: pillow in /usr/local/lib/python3.7/dist-packages (from imageio<3.0,>=2.1.2->moviepy->colabgymrender) (7.1.2)\n"
          ],
          "name": "stdout"
        }
      ]
    },
    {
      "cell_type": "code",
      "metadata": {
        "id": "y7IG_wxod9mW"
      },
      "source": [
        "# Imports for helper functions\n",
        "import base64\n",
        "import io\n",
        "import math\n",
        "from pathlib import Path\n",
        "\n",
        "import gym\n",
        "import matplotlib\n",
        "import matplotlib.pyplot as plt\n",
        "import numpy as np\n",
        "from colabgymrender.recorder import Recorder\n",
        "from google.colab import drive\n",
        "from gym.wrappers import Monitor\n",
        "from IPython import display as ipythondisplay\n",
        "from IPython.display import HTML\n",
        "from pyvirtualdisplay import Display"
      ],
      "execution_count": 2,
      "outputs": []
    },
    {
      "cell_type": "code",
      "metadata": {
        "id": "MFDD54_Afgs4",
        "colab": {
          "base_uri": "https://localhost:8080/"
        },
        "outputId": "a89622e1-cd8c-4002-fe6c-c9fd60624e95"
      },
      "source": [
        "# Mount your Google Drive. By doing so, you can store any output, models, videos, and images persistently.\n",
        "drive.mount('/content/gdrive')"
      ],
      "execution_count": 3,
      "outputs": [
        {
          "output_type": "stream",
          "text": [
            "Drive already mounted at /content/gdrive; to attempt to forcibly remount, call drive.mount(\"/content/gdrive\", force_remount=True).\n"
          ],
          "name": "stdout"
        }
      ]
    },
    {
      "cell_type": "code",
      "metadata": {
        "id": "lJeiCQFRgnSj"
      },
      "source": [
        "# Create a directory to store the data for this lab. Feel free to change this.\n",
        "data_path = Path('/content/gdrive/My Drive/Colab Notebooks/HU_RL/part1')\n",
        "data_path.mkdir(parents=True, exist_ok=True)\n",
        "video_path = data_path / 'video'"
      ],
      "execution_count": 4,
      "outputs": []
    },
    {
      "cell_type": "code",
      "metadata": {
        "id": "rU2ZsnBEelqW",
        "colab": {
          "base_uri": "https://localhost:8080/"
        },
        "outputId": "9d87d8b2-f18e-4b50-e0a9-5bcfbe7fe9f2"
      },
      "source": [
        "# Define helper functions to visually show what the models are doing.\n",
        "%matplotlib inline\n",
        "\n",
        "gym.logger.set_level(gym.logger.ERROR)\n",
        "\n",
        "display = Display(visible=0, size=(1400, 900))\n",
        "display.start()\n",
        "\n",
        "def show_video():\n",
        "    # Display the stored video file\n",
        "    # Credits: https://star-ai.github.io/Rendering-OpenAi-Gym-in-Colaboratory/\n",
        "    mp4list = list(data_path.glob('video/*.mp4'))\n",
        "    if len(mp4list) > 0:\n",
        "        mp4 = mp4list[-1]\n",
        "        video = io.open(mp4, 'r+b').read()\n",
        "        encoded = base64.b64encode(video)\n",
        "        ipythondisplay.display(HTML(data='''<video alt=\"test\" autoplay \n",
        "                loop controls style=\"height: 400px;\">\n",
        "                <source src=\"data:video/mp4;base64,{0}\" type=\"video/mp4\" />\n",
        "            </video>'''.format(encoded.decode('ascii'))))\n",
        "    else: \n",
        "        print('Could not find video')\n",
        "\n",
        "\n",
        "def record_episode(idx):\n",
        "    # This determines which episodes to record.\n",
        "    # Since the video rendering in the OpenAI Gym is a bit buggy, we simply override it and decide\n",
        "    # whether or not to render inside of our training loop.\n",
        "    return True\n",
        "\n",
        "    \n",
        "def video_env(env):\n",
        "    # Wraps the environment to write its output to a video file\n",
        "    env = Monitor(env, video_path, video_callable=record_episode, force=True)\n",
        "    return env\n"
      ],
      "execution_count": 5,
      "outputs": [
        {
          "output_type": "execute_result",
          "data": {
            "text/plain": [
              "<pyvirtualdisplay.display.Display at 0x7f5d45dad9d0>"
            ]
          },
          "metadata": {
            "tags": []
          },
          "execution_count": 5
        }
      ]
    },
    {
      "cell_type": "markdown",
      "metadata": {
        "id": "ShMPjUFXiwli"
      },
      "source": [
        "# Test the environment"
      ]
    },
    {
      "cell_type": "code",
      "metadata": {
        "id": "u3hAfAGhi4KK",
        "colab": {
          "base_uri": "https://localhost:8080/",
          "height": 523
        },
        "outputId": "75d8851a-2b44-4b41-f58b-fe7368a43e8f"
      },
      "source": [
        "print(\"\"\"We will use a basic OpenAI Gym examle: CartPole-v0.\n",
        "In this example, we will try to balance a pole on a cart.\n",
        "This is similar to kids (and.. grown-ups) trying to balance sticks on their hands.\n",
        "\n",
        "Check out the OpenAI Gym documentation to learn more: https://gym.openai.com/docs/\"\"\")\n",
        "\n",
        "# Create the desired environment\n",
        "env = gym.make(\"CartPole-v0\")\n",
        "\n",
        "# Wrap the environment, to make sure we get to see a fancy video\n",
        "env = video_env(env)\n",
        "\n",
        "# Before you can use a Gym environment, it needs to be reset.\n",
        "state = env.reset()\n",
        "\n",
        "# Perform random actions untill we drop the stick. Just as an example.\n",
        "done = False\n",
        "while not done:\n",
        "    env.render()\n",
        "    # The action_space contains all possible actions we can take.\n",
        "    random_action = env.action_space.sample() \n",
        "\n",
        "    # After each action, we end up in a new state and receive a reward.\n",
        "    # When we drop the pole (more than 12 degrees), or balance it long enough (200 steps),\n",
        "    # or drive off the screen, done is set to True.\n",
        "    state, reward, done, info = env.step(random_action)\n",
        "\n",
        "# Show the results!\n",
        "env.close()\n",
        "show_video()"
      ],
      "execution_count": 6,
      "outputs": [
        {
          "output_type": "stream",
          "text": [
            "We will use a basic OpenAI Gym examle: CartPole-v0.\n",
            "In this example, we will try to balance a pole on a cart.\n",
            "This is similar to kids (and.. grown-ups) trying to balance sticks on their hands.\n",
            "\n",
            "Check out the OpenAI Gym documentation to learn more: https://gym.openai.com/docs/\n"
          ],
          "name": "stdout"
        },
        {
          "output_type": "execute_result",
          "data": {
            "text/plain": [
              "True"
            ]
          },
          "metadata": {
            "tags": []
          },
          "execution_count": 6
        },
        {
          "output_type": "execute_result",
          "data": {
            "text/plain": [
              "True"
            ]
          },
          "metadata": {
            "tags": []
          },
          "execution_count": 6
        },
        {
          "output_type": "execute_result",
          "data": {
            "text/plain": [
              "True"
            ]
          },
          "metadata": {
            "tags": []
          },
          "execution_count": 6
        },
        {
          "output_type": "execute_result",
          "data": {
            "text/plain": [
              "True"
            ]
          },
          "metadata": {
            "tags": []
          },
          "execution_count": 6
        },
        {
          "output_type": "execute_result",
          "data": {
            "text/plain": [
              "True"
            ]
          },
          "metadata": {
            "tags": []
          },
          "execution_count": 6
        },
        {
          "output_type": "execute_result",
          "data": {
            "text/plain": [
              "True"
            ]
          },
          "metadata": {
            "tags": []
          },
          "execution_count": 6
        },
        {
          "output_type": "execute_result",
          "data": {
            "text/plain": [
              "True"
            ]
          },
          "metadata": {
            "tags": []
          },
          "execution_count": 6
        },
        {
          "output_type": "execute_result",
          "data": {
            "text/plain": [
              "True"
            ]
          },
          "metadata": {
            "tags": []
          },
          "execution_count": 6
        },
        {
          "output_type": "execute_result",
          "data": {
            "text/plain": [
              "True"
            ]
          },
          "metadata": {
            "tags": []
          },
          "execution_count": 6
        },
        {
          "output_type": "execute_result",
          "data": {
            "text/plain": [
              "True"
            ]
          },
          "metadata": {
            "tags": []
          },
          "execution_count": 6
        },
        {
          "output_type": "execute_result",
          "data": {
            "text/plain": [
              "True"
            ]
          },
          "metadata": {
            "tags": []
          },
          "execution_count": 6
        },
        {
          "output_type": "execute_result",
          "data": {
            "text/plain": [
              "True"
            ]
          },
          "metadata": {
            "tags": []
          },
          "execution_count": 6
        },
        {
          "output_type": "execute_result",
          "data": {
            "text/plain": [
              "True"
            ]
          },
          "metadata": {
            "tags": []
          },
          "execution_count": 6
        },
        {
          "output_type": "execute_result",
          "data": {
            "text/plain": [
              "True"
            ]
          },
          "metadata": {
            "tags": []
          },
          "execution_count": 6
        },
        {
          "output_type": "execute_result",
          "data": {
            "text/plain": [
              "True"
            ]
          },
          "metadata": {
            "tags": []
          },
          "execution_count": 6
        },
        {
          "output_type": "execute_result",
          "data": {
            "text/plain": [
              "True"
            ]
          },
          "metadata": {
            "tags": []
          },
          "execution_count": 6
        },
        {
          "output_type": "execute_result",
          "data": {
            "text/plain": [
              "True"
            ]
          },
          "metadata": {
            "tags": []
          },
          "execution_count": 6
        },
        {
          "output_type": "execute_result",
          "data": {
            "text/plain": [
              "True"
            ]
          },
          "metadata": {
            "tags": []
          },
          "execution_count": 6
        },
        {
          "output_type": "execute_result",
          "data": {
            "text/plain": [
              "True"
            ]
          },
          "metadata": {
            "tags": []
          },
          "execution_count": 6
        },
        {
          "output_type": "execute_result",
          "data": {
            "text/plain": [
              "True"
            ]
          },
          "metadata": {
            "tags": []
          },
          "execution_count": 6
        },
        {
          "output_type": "execute_result",
          "data": {
            "text/plain": [
              "True"
            ]
          },
          "metadata": {
            "tags": []
          },
          "execution_count": 6
        },
        {
          "output_type": "display_data",
          "data": {
            "text/html": [
              "<video alt=\"test\" autoplay \n",
              "                loop controls style=\"height: 400px;\">\n",
              "                <source src=\"data:video/mp4;base64,AAAAIGZ0eXBpc29tAAACAGlzb21pc28yYXZjMW1wNDEAAAAIZnJlZQAADKxtZGF0AAACrgYF//+q3EXpvebZSLeWLNgg2SPu73gyNjQgLSBjb3JlIDE1MiByMjg1NCBlOWE1OTAzIC0gSC4yNjQvTVBFRy00IEFWQyBjb2RlYyAtIENvcHlsZWZ0IDIwMDMtMjAxNyAtIGh0dHA6Ly93d3cudmlkZW9sYW4ub3JnL3gyNjQuaHRtbCAtIG9wdGlvbnM6IGNhYmFjPTEgcmVmPTMgZGVibG9jaz0xOjA6MCBhbmFseXNlPTB4MzoweDExMyBtZT1oZXggc3VibWU9NyBwc3k9MSBwc3lfcmQ9MS4wMDowLjAwIG1peGVkX3JlZj0xIG1lX3JhbmdlPTE2IGNocm9tYV9tZT0xIHRyZWxsaXM9MSA4eDhkY3Q9MSBjcW09MCBkZWFkem9uZT0yMSwxMSBmYXN0X3Bza2lwPTEgY2hyb21hX3FwX29mZnNldD0tMiB0aHJlYWRzPTMgbG9va2FoZWFkX3RocmVhZHM9MSBzbGljZWRfdGhyZWFkcz0wIG5yPTAgZGVjaW1hdGU9MSBpbnRlcmxhY2VkPTAgYmx1cmF5X2NvbXBhdD0wIGNvbnN0cmFpbmVkX2ludHJhPTAgYmZyYW1lcz0zIGJfcHlyYW1pZD0yIGJfYWRhcHQ9MSBiX2JpYXM9MCBkaXJlY3Q9MSB3ZWlnaHRiPTEgb3Blbl9nb3A9MCB3ZWlnaHRwPTIga2V5aW50PTI1MCBrZXlpbnRfbWluPTI1IHNjZW5lY3V0PTQwIGludHJhX3JlZnJlc2g9MCByY19sb29rYWhlYWQ9NDAgcmM9Y3JmIG1idHJlZT0xIGNyZj0yMy4wIHFjb21wPTAuNjAgcXBtaW49MCBxcG1heD02OSBxcHN0ZXA9NCBpcF9yYXRpbz0xLjQwIGFxPTE6MS4wMACAAAAB5WWIhAAz//727L4FNf2f0JcRLMXaSnA+KqSAgHc0wAAAAwAAAwAAFgn0I7DkqgN3QAAAHGAFBCwCPCVC2EhH2OlcDYD/lnR3g89pO6MMccH47zSrcybqC3apQYpZMrMIeV7fH6zVYpy0X/fp4fM3ukK4lCboUbDZyQKfTc943B1+gnVe3p82ZjkzVdOaR8Z6lvRbfbzpg83peDYuMq968fh76XcaM50cNvE4BBwWnQN1SbXGGh97lNYFr/VyGqEp+XWy250YO6BpXvnktyfOzflcmuKclSM/6yFBQLFGykKxMiiM11dKPKaAfma/JFCnifsGoYQyp8uQRmFVNr27PxZLDnFbw7FCcGVFda6C/pl9mGb0AlToXQRLr+QFyBms7f9ese4/ZGKMs3NRMgGkkR6abJ6jP97fR5PeGejL/x57nnodM3XkYFXwKQ/NHxtfrFFE0Ud6Qb0N2VLDRN//A9fbGJei7V0k+sIvbbyRIVhh/URhGqhtPBct7jrBR6z6MSmVIk2pSfKzckRS0zcD3uWiDz9amjmmVHt3k/wh+1VLZk8AE6GwrxQGjzJQR4BL7a6kJGjqYjGIu3KqHG7Iy0oW/lNDjqwJ3dwmHFipI9y7j1eyao0oJTnRSNwAAAMAAAMAAMCBAAAAlkGaJGxC//6MsAAAGqxHJlgr9wAmmiYDG59mqNDTVf98bgVGP8wDti6Ueb+DrKtB1ncSq5YDETXSaVS6mhA+6zSPpxgAbr5cmnkgcoSTmlGxY7ql9mrOMAvnSTQW8B9chn/vkJLb/r0g0QFk6NumdelbrP+6V/UD7jlgRLqLzgp6MEXud8KaMPkqTOfn36lPAe2p4QAIeAAAAExBnkJ4hH8AAAhxX6aisX7p53lDqQr++wRCix2ykKqn8D90JnVu4AAAAwBZ9HZy1sgesMNwwsONJN7dcI1ZkAAAAwAAAwAbGqZYACthAAAAPgGeYXRH/wAADYfTZ4WKIhPpuUDh6uuwP0vxJgAmYWz1s32KYeqJrXBssb0AAAMAAAMABY9kAAClWqZYAKmAAAAALgGeY2pH/wAADYeOVAh8kevPogtyA5sRnfpdWwAAAwAAAwAAjYAAgub5qeEABU0AAAB6QZpoSahBaJlMCF///oywAABIAs/kbEoBLewjs/bCK5ZqP5Mr5AkAFv777t/m8RoBBWFtnyKdywxH6JYEylz/YwWzXxCef9IpbL4cc50Vno4CvYSv5Q8piumhdoQZ/aS/R8GZwm7ogAAAAwABKhAAANZqHwAKweEAAf8AAABMQZ6GRREsI/8AABdMTmsL1GZYjhAEsCgYazGTJvN7RsJmPljhuRAynBG4wy4IhXzev4sk8Z4pvfAAAAMArzSgOalmABmGijUywADUgQAAAFEBnqV0R/8AACPDO5jYkUqxzngxtyJ6ouybYf14aTAAHuT/tjThu8nVQXqn3FQAAAMAAAMABJzF4rJpSATsedoOGj7W7i1SW/+EAAAxfhAAG9EAAABLAZ6nakf/AAAkscwNUJwVcuTX6LQzsVCysuwFMJB1pQAHvWm5aZTxTCb03UN5n/EPu4r6aKSxFQsnHZywuWahCBgAAAMA+bUqgANmAAAAhUGarEmoQWyZTAhf//6MsAAASBBsmDADo/kLV4U8054xOarO2fGGOCCvl3XbpKr+yApd7kO9N10HuxndH9bjbff8V5AHUdgJrJchpm6dJVbPj40IGIch9r6mIfNeYN10+9CTothsa7ecT+7hTH0DuNySCihuQw76JE5XbdmQ/iqWSPJ6aRgAAABMQZ7KRRUsI/8AABdLj+3PIu2YRVJcpsEyN287Nt7yyMNDEF/oE0yCTscTTtYjiOC6bSRnLGSmRuyPnWnEIb8m5eX/J4QDbCoz4qgKmQAAADwBnul0R/8AACSr+Fi7bZwuP9mzvjvaZ7/LBX2Kdfvo5GHRtIdlwAPs9XFeUZQCRwAAAwAAAwP8oFnhA64AAAA+AZ7rakf/AAAjvx+JQkbbsckTlT0axxhIgo89jWV6U/Z02gA/ml21RUP9KCmdAb2ttI9IAAADAABq49IywRsAAACLQZrwSahBbJlMCFf//jhAAAEVTsNXNNN4AiYze4ljsLs5jq3ec59V0nSdrr11mk/bEGobvKhZgSJQChNJ8m8AVMuSH6YOmfSG9UNJSFhEJQTTOHc1YX0VcPMTIk3zOtTH+TvaIL+xsSfAAXxZSzshAnKVCeXhjHw6OiIrUAAAAwAW2mqB7irplEryZwAAAGNBnw5FFSwj/wAAF0uKZhzn2r4IsEGqYol82AABGaqtZ/YmxD/ShaYYrNFgss+icw9Fl/UljTltKSTlqsasB6aUtXVgI4v1xucqc/36t0s9m8sylP68AAADAAADAAF1l+CqA/0AAABCAZ8tdEf/AAAkt9WWakAImJaPKUyhOVU1nnxg9K/nd/9fiP+ecR2uDYN5rhxJrnRmlkerB7EQvb686kQjU6JaYQOPAAAASgGfL2pH/wAAJK71AHLyL3tBQ3POSG7W5vDLAB932Zw3xjwpY3lfG2bZCksqLsEWEUHSKgS2JHFjgyjSaW0150xgAAF9AvH8VQFTAAAAtkGbNEmoQWyZTAhH//3hAAAEM7Kq8AAcbvHVgDhv0QxskgEZwAsouaHaBWMF/ZvLiV3LpaOtrJiCPt1s4QnS9gqd9TB0QoUcGh4MlDmwvJ+xlVID3JKWuSYJ6S0Qj/EnOl/6X7BTx4YQf7q7TqGxCTFJfwT3M6jxtT2I1t2cDI3TRmedjoUkkkIZVtLOdxs9ZnqXXDiNNDWSI664czMpF9caynsRi3sT+VtyaxEqyUzU04BXwHzAAAAAcEGfUkUVLCP/AAAXQfxrYkNCQnU2Av7U8xJYTjN7RrbYyCHc4WiPfw2vhWK4t/PCnkZ/R5b1M9LybM98NmhV2+f6K3at9U6LcKz0VLS6PABOrEUqh6wAmnSX/h5+zoKkqua9IfgfniAA8oF74i+ECTkAAABIAZ9xdEf/AAAkwHXDCHDR4TAsQLsVa0HMlNbM4Im9grG49JSsnkPEiRRBvRgaOmpT5+H2A6NHnEXCkOrKAAADAAf7BVVPCBJwAAAAWwGfc2pH/wAAI70nDtQCqYgshNApzYAakWBdBjan53JZIM9U0kGyoJY1Frc8EnJp/q52aPD7Re40oPGjZ7df3aUMit9tKDAgAEzv/VLbmrzyTQyAAEpjlOKoCpgAAAB3QZt1SahBbJlMCP/8hAAAEFIC+ZMAVvsrI4LOJ6zN5tpkeakQEDPUuIODmeIQZ1I8chIMS+PkzauhxrkdDFhxADojKDgvJDisRMdwMxTvjeFtysPOMPCGi7vDfftdvwWN0GYUgQPAAAADAAADAAA05cB4tDOfE8EAAAQbbW9vdgAAAGxtdmhkAAAAAAAAAAAAAAAAAAAD6AAAAbgAAQAAAQAAAAAAAAAAAAAAAAEAAAAAAAAAAAAAAAAAAAABAAAAAAAAAAAAAAAAAABAAAAAAAAAAAAAAAAAAAAAAAAAAAAAAAAAAAAAAAAAAgAAA0V0cmFrAAAAXHRraGQAAAADAAAAAAAAAAAAAAABAAAAAAAAAbgAAAAAAAAAAAAAAAAAAAAAAAEAAAAAAAAAAAAAAAAAAAABAAAAAAAAAAAAAAAAAABAAAAAAlgAAAGQAAAAAAAkZWR0cwAAABxlbHN0AAAAAAAAAAEAAAG4AAACAAABAAAAAAK9bWRpYQAAACBtZGhkAAAAAAAAAAAAAAAAAAAyAAAAFgBVxAAAAAAALWhkbHIAAAAAAAAAAHZpZGUAAAAAAAAAAAAAAABWaWRlb0hhbmRsZXIAAAACaG1pbmYAAAAUdm1oZAAAAAEAAAAAAAAAAAAAACRkaW5mAAAAHGRyZWYAAAAAAAAAAQAAAAx1cmwgAAAAAQAAAihzdGJsAAAAmHN0c2QAAAAAAAAAAQAAAIhhdmMxAAAAAAAAAAEAAAAAAAAAAAAAAAAAAAAAAlgBkABIAAAASAAAAAAAAAABAAAAAAAAAAAAAAAAAAAAAAAAAAAAAAAAAAAAAAAAAAAAGP//AAAAMmF2Y0MBZAAf/+EAGWdkAB+s2UCYM+XhAAADAAEAAAMAZA8YMZYBAAZo6+PLIsAAAAAYc3R0cwAAAAAAAAABAAAAFgAAAQAAAAAUc3RzcwAAAAAAAAABAAAAAQAAAMBjdHRzAAAAAAAAABYAAAABAAACAAAAAAEAAAUAAAAAAQAAAgAAAAABAAAAAAAAAAEAAAEAAAAAAQAABQAAAAABAAACAAAAAAEAAAAAAAAAAQAAAQAAAAABAAAFAAAAAAEAAAIAAAAAAQAAAAAAAAABAAABAAAAAAEAAAUAAAAAAQAAAgAAAAABAAAAAAAAAAEAAAEAAAAAAQAABQAAAAABAAACAAAAAAEAAAAAAAAAAQAAAQAAAAABAAACAAAAABxzdHNjAAAAAAAAAAEAAAABAAAAFgAAAAEAAABsc3RzegAAAAAAAAAAAAAAFgAABJsAAACaAAAAUAAAAEIAAAAyAAAAfgAAAFAAAABVAAAATwAAAIkAAABQAAAAQAAAAEIAAACPAAAAZwAAAEYAAABOAAAAugAAAHQAAABMAAAAXwAAAHsAAAAUc3RjbwAAAAAAAAABAAAAMAAAAGJ1ZHRhAAAAWm1ldGEAAAAAAAAAIWhkbHIAAAAAAAAAAG1kaXJhcHBsAAAAAAAAAAAAAAAALWlsc3QAAAAlqXRvbwAAAB1kYXRhAAAAAQAAAABMYXZmNTcuODMuMTAw\" type=\"video/mp4\" />\n",
              "            </video>"
            ],
            "text/plain": [
              "<IPython.core.display.HTML object>"
            ]
          },
          "metadata": {
            "tags": []
          }
        }
      ]
    },
    {
      "cell_type": "code",
      "metadata": {
        "id": "i-O3zaP6q4-E",
        "colab": {
          "base_uri": "https://localhost:8080/"
        },
        "outputId": "b7f06a80-e08b-4fdf-c68a-2cfc68bdf67b"
      },
      "source": [
        "# Neat, it did something (randomly)! \n",
        "\n",
        "# In order to train the system, we will try to predict the reward a certain actions yields given the state of the system.\n",
        "# But what is the state anyway?\n",
        "\n",
        "# In this environment, the state represents the cart's position and velocity, and the pole's angle and velocity.\n",
        "\n",
        "# Let's check out the current state\n",
        "print(f'Cart position: {state[0]} (range: [-4.8, 4.8])')\n",
        "print(f'Cart velocity: {state[1]} (range: [-inf, inf])')\n",
        "print(f'Pole angle: {state[2]} (range: [-0.418, 0.418])')\n",
        "print(f'Pole velocity: {state[3]} (range [-inf, inf])')\n",
        "\n",
        "# You can find out the minimum and maximum possible observation values using:\n",
        "print(f'Low observation space:', env.observation_space.low)\n",
        "print(f'High observation space:', env.observation_space.high)"
      ],
      "execution_count": 7,
      "outputs": [
        {
          "output_type": "stream",
          "text": [
            "Cart position: 0.05985692027431815 (range: [-4.8, 4.8])\n",
            "Cart velocity: 0.5777843914846194 (range: [-inf, inf])\n",
            "Pole angle: -0.22412086669375306 (range: [-0.418, 0.418])\n",
            "Pole velocity: -1.3298428004457412 (range [-inf, inf])\n",
            "Low observation space: [-4.8000002e+00 -3.4028235e+38 -4.1887903e-01 -3.4028235e+38]\n",
            "High observation space: [4.8000002e+00 3.4028235e+38 4.1887903e-01 3.4028235e+38]\n"
          ],
          "name": "stdout"
        }
      ]
    },
    {
      "cell_type": "markdown",
      "metadata": {
        "id": "nhQlBt2hUAQ2"
      },
      "source": [
        "# Implement Q-Learning"
      ]
    },
    {
      "cell_type": "markdown",
      "metadata": {
        "id": "HFsyJOo5GrZe"
      },
      "source": [
        "## Task\n",
        "Implement Q-Learning and find suitable parameters to reach a 200 reward."
      ]
    },
    {
      "cell_type": "code",
      "metadata": {
        "id": "eDvyHdRyRtdq"
      },
      "source": [
        "# Define parameters - Fill in the dots\n",
        "\n",
        "num_episodes = 20_000\n",
        "num_episodes_between_status_update = 5_000\n",
        "num_episodes_between_videos = num_episodes\n",
        "\n",
        "learning_rate = 0.005        # also known as: alpha\n",
        "discount = 0.95              # also known as: gamma\n",
        "epsilon = 0.99\n",
        "\n",
        "# Epsilon decay\n",
        "pass    # Optionally, add parameters for epsilon decay here\n",
        "\n",
        "# Discretization\n",
        "pass    # You can add parameters to discretize states here"
      ],
      "execution_count": 8,
      "outputs": []
    },
    {
      "cell_type": "code",
      "metadata": {
        "id": "T0S8rYCWT15s",
        "colab": {
          "base_uri": "https://localhost:8080/"
        },
        "outputId": "0d3d781a-fb5a-4cf1-9194-14a7ab6c2bb4"
      },
      "source": [
        "## Q-Table creation\n",
        "\n",
        "# As seen before, the state consists of 4 floating point values.\n",
        "# It makes sense to discretize these values (read: place them in buckets), to reduce the state space and therefore the Q-table size\n",
        "# state_shape = [5, 101, 203, 157]      # For instance: [4, 4, 6, 6], or [10] * 4, or [200, 200, 100, 100]\n",
        "# state_shape = [5, 5, 5, 5]      # For instance: [4, 4, 6, 6], or [10] * 4, or [200, 200, 100, 100]\n",
        "state_shape = [35, 35, 51, 51]      # For instance: [4, 4, 6, 6], or [10] * 4, or [200, 200, 100, 100]\n",
        "\n",
        "# Define the initial Q table as a random uniform distribution\n",
        "q_table = np.random.uniform(low=-1, high=0, size=(state_shape + [env.action_space.n]))\n",
        "\n",
        "space_space = np.vstack((env.observation_space.low, env.observation_space.high, state_shape)).T\n",
        "space_space_linspace = [np.linspace(low, high, num=int(num)) for low, high, num in space_space]\n",
        "\n",
        "print(len(space_space_linspace), [len(space_linspace) for space_linspace in space_space_linspace])\n",
        "\n",
        "print('Q table shape:', q_table.shape)"
      ],
      "execution_count": 9,
      "outputs": [
        {
          "output_type": "stream",
          "text": [
            "4 [35, 35, 51, 51]\n",
            "Q table shape: (35, 35, 51, 51, 2)\n"
          ],
          "name": "stdout"
        }
      ]
    },
    {
      "cell_type": "markdown",
      "metadata": {
        "id": "-4Cp8cNtUcDf"
      },
      "source": [
        "# Train\n"
      ]
    },
    {
      "cell_type": "code",
      "metadata": {
        "id": "9SMMA_KceHrx"
      },
      "source": [
        "# Functions\n",
        "\n",
        "def discretize_state(state, bins=space_space_linspace):\n",
        "    # A Q-table cannot practically handle infinite states, so limit the state space by\n",
        "    # discretizing the state into buckets.\n",
        "    discrete_state = np.array([np.digitize(s, bin) for s, bin in zip(state, bins)])\n",
        "    # print(state)\n",
        "    # print(discrete_state)\n",
        "    return tuple(discrete_state.astype(np.int))\n",
        "\n",
        "def take_action(discrete_state, epsilon, q_table=q_table,\n",
        "                rng=np.random.default_rng(), env=env):\n",
        "    # Take an action to either explore or exploit.\n",
        "    if rng.random() > epsilon:\n",
        "      # Exploit\n",
        "      action = np.argmax(q_table[discrete_state])\n",
        "    else:\n",
        "      # Explore\n",
        "      action = rng.integers(env.action_space.n)\n",
        "    return action\n",
        "\n",
        "def estimated_max_for_next_state(discrete_state, q_table=q_table):\n",
        "    # What's the best expected Q-value for the next state?\n",
        "    estimated_max = np.max(q_table[discrete_state])\n",
        "    return estimated_max\n",
        "\n",
        "def new_q_value(discrete_state, action, max_future_q, reward, q_table=q_table,\n",
        "                learning_rate=learning_rate, discount=discount):\n",
        "    # Calculate the new Q-value\n",
        "    current_q = q_table[discrete_state + (action,)]\n",
        "    new_q = current_q + learning_rate * (reward + discount * max_future_q - current_q)\n",
        "    return new_q\n",
        "\n",
        "def decayed_epsilon(episode, epsilon_max: float = 0.99, epsilon_min: float = 0.01, steps: int = 10_000):\n",
        "    if episode > steps:\n",
        "        return epsilon_min\n",
        "    else:\n",
        "        epsilon_per_step = (epsilon_max - epsilon_min) / steps\n",
        "        return epsilon_max - epsilon_per_step * episode"
      ],
      "execution_count": 10,
      "outputs": []
    },
    {
      "cell_type": "code",
      "metadata": {
        "id": "iMUc3G164cA7",
        "colab": {
          "base_uri": "https://localhost:8080/",
          "height": 557
        },
        "outputId": "3fe75613-a930-43ba-ffea-73958d478251"
      },
      "source": [
        "# Time to train the system\n",
        "\n",
        "for episode in range(num_episodes):\n",
        "    state = env.reset() # Don't forget to reset the environment between episodes\n",
        "    current_state_disc = discretize_state(state)\n",
        "\n",
        "    reward_sum = 0\n",
        "    done = False\n",
        "    while not done:\n",
        "        # env.render()\n",
        "        if (episode + 1) % num_episodes_between_videos == 0:\n",
        "            env.render()\n",
        "\n",
        "        # Take an action by exploration or exploitation\n",
        "        action = take_action(current_state_disc, epsilon)\n",
        "        new_state, reward, done, info = env.step(action)\n",
        "        new_state_disc = discretize_state(new_state)\n",
        "\n",
        "        # Calculate the total reward\n",
        "        reward_sum += reward\n",
        "\n",
        "        if not done:\n",
        "            # Retrieve the maximum estimated value for the next state\n",
        "            max_future_q = estimated_max_for_next_state(new_state_disc)\n",
        "\n",
        "            # Calculate the new value (note: Bellman equation)\n",
        "            # Added reward as argument for Bellman equation (Casper & Thijs)\n",
        "            new_q = new_q_value(current_state_disc, action, max_future_q, reward)\n",
        "            q_table[current_state_disc + (action,)] = new_q\n",
        "        else:\n",
        "            # Render the video\n",
        "            if (episode + 1) % num_episodes_between_status_update == 0:\n",
        "                env.render()\n",
        "                print(epsilon)\n",
        "                print(f'Total reward at episode {episode + 1}: {reward_sum}')\n",
        "\n",
        "        # Prepare for the next loop\n",
        "        current_state_disc = new_state_disc\n",
        "\n",
        "    # Decay epsilon\n",
        "    epsilon = decayed_epsilon(episode)\n",
        "\n",
        "env.close()\n",
        "show_video()"
      ],
      "execution_count": 11,
      "outputs": [
        {
          "output_type": "execute_result",
          "data": {
            "text/plain": [
              "True"
            ]
          },
          "metadata": {
            "tags": []
          },
          "execution_count": 11
        },
        {
          "output_type": "stream",
          "text": [
            "0.5001960000000001\n",
            "Total reward at episode 5000: 12.0\n"
          ],
          "name": "stdout"
        },
        {
          "output_type": "execute_result",
          "data": {
            "text/plain": [
              "True"
            ]
          },
          "metadata": {
            "tags": []
          },
          "execution_count": 11
        },
        {
          "output_type": "stream",
          "text": [
            "0.010195999999999983\n",
            "Total reward at episode 10000: 10.0\n"
          ],
          "name": "stdout"
        },
        {
          "output_type": "execute_result",
          "data": {
            "text/plain": [
              "True"
            ]
          },
          "metadata": {
            "tags": []
          },
          "execution_count": 11
        },
        {
          "output_type": "stream",
          "text": [
            "0.01\n",
            "Total reward at episode 15000: 12.0\n"
          ],
          "name": "stdout"
        },
        {
          "output_type": "execute_result",
          "data": {
            "text/plain": [
              "True"
            ]
          },
          "metadata": {
            "tags": []
          },
          "execution_count": 11
        },
        {
          "output_type": "execute_result",
          "data": {
            "text/plain": [
              "True"
            ]
          },
          "metadata": {
            "tags": []
          },
          "execution_count": 11
        },
        {
          "output_type": "execute_result",
          "data": {
            "text/plain": [
              "True"
            ]
          },
          "metadata": {
            "tags": []
          },
          "execution_count": 11
        },
        {
          "output_type": "execute_result",
          "data": {
            "text/plain": [
              "True"
            ]
          },
          "metadata": {
            "tags": []
          },
          "execution_count": 11
        },
        {
          "output_type": "execute_result",
          "data": {
            "text/plain": [
              "True"
            ]
          },
          "metadata": {
            "tags": []
          },
          "execution_count": 11
        },
        {
          "output_type": "execute_result",
          "data": {
            "text/plain": [
              "True"
            ]
          },
          "metadata": {
            "tags": []
          },
          "execution_count": 11
        },
        {
          "output_type": "execute_result",
          "data": {
            "text/plain": [
              "True"
            ]
          },
          "metadata": {
            "tags": []
          },
          "execution_count": 11
        },
        {
          "output_type": "execute_result",
          "data": {
            "text/plain": [
              "True"
            ]
          },
          "metadata": {
            "tags": []
          },
          "execution_count": 11
        },
        {
          "output_type": "execute_result",
          "data": {
            "text/plain": [
              "True"
            ]
          },
          "metadata": {
            "tags": []
          },
          "execution_count": 11
        },
        {
          "output_type": "execute_result",
          "data": {
            "text/plain": [
              "True"
            ]
          },
          "metadata": {
            "tags": []
          },
          "execution_count": 11
        },
        {
          "output_type": "execute_result",
          "data": {
            "text/plain": [
              "True"
            ]
          },
          "metadata": {
            "tags": []
          },
          "execution_count": 11
        },
        {
          "output_type": "stream",
          "text": [
            "0.01\n",
            "Total reward at episode 20000: 10.0\n"
          ],
          "name": "stdout"
        },
        {
          "output_type": "display_data",
          "data": {
            "text/html": [
              "<video alt=\"test\" autoplay \n",
              "                loop controls style=\"height: 400px;\">\n",
              "                <source src=\"data:video/mp4;base64,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\" type=\"video/mp4\" />\n",
              "            </video>"
            ],
            "text/plain": [
              "<IPython.core.display.HTML object>"
            ]
          },
          "metadata": {
            "tags": []
          }
        }
      ]
    },
    {
      "cell_type": "markdown",
      "metadata": {
        "id": "7RbC9GKag15q"
      },
      "source": [
        "# MountainCar\n"
      ]
    },
    {
      "cell_type": "markdown",
      "metadata": {
        "id": "_0oyL2bxg_1j"
      },
      "source": [
        "Now apply the things you've learned to the MountainCar problem. Please note that the observable space differs from the previous problem. Thus, before you start training, you need to learn more about thethis new environment.\n",
        "\n",
        "Here is some code to help you get started.."
      ]
    },
    {
      "cell_type": "code",
      "metadata": {
        "id": "hWzVnM10g4Oc"
      },
      "source": [
        "# # Create the desired environment\n",
        "# env = gym.make(\"MountainCar-v0\")\n",
        "\n",
        "# # Wrap the environment, to make sure we get to see a fancy video\n",
        "# env = video_env(env)\n",
        "\n",
        "# # Before you can use a Gym environment, it needs to be reset.\n",
        "# state = env.reset()\n",
        "\n",
        "# # Perform random actions untill we drop the stick. Just as an example.\n",
        "# done = False\n",
        "# while not done:\n",
        "   \n",
        "#     # Explore and take actions\n",
        "#     pass\n",
        "\n",
        "#     # Remove the line below when you have created an implementation you want to test.\n",
        "#     done = True\n",
        "\n",
        "# # Show the results!\n",
        "# env.close()\n",
        "# show_video()"
      ],
      "execution_count": 12,
      "outputs": []
    }
  ]
}
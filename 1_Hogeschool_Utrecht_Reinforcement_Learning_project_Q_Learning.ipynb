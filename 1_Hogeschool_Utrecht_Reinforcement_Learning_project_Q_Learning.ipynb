{
  "nbformat": 4,
  "nbformat_minor": 0,
  "metadata": {
    "colab": {
      "name": "1_Hogeschool-Utrecht_Reinforcement-Learning-project_Q-Learning.ipynb",
      "provenance": [],
      "collapsed_sections": [],
      "include_colab_link": true
    },
    "kernelspec": {
      "name": "python3",
      "display_name": "Python 3"
    },
    "accelerator": "TPU"
  },
  "cells": [
    {
      "cell_type": "markdown",
      "metadata": {
        "id": "view-in-github",
        "colab_type": "text"
      },
      "source": [
        "<a href=\"https://colab.research.google.com/github/Denbergvanthijs/hu-reinforcement-learning-gym/blob/master/1_Hogeschool_Utrecht_Reinforcement_Learning_project_Q_Learning.ipynb\" target=\"_parent\"><img src=\"https://colab.research.google.com/assets/colab-badge.svg\" alt=\"Open In Colab\"/></a>"
      ]
    },
    {
      "cell_type": "markdown",
      "metadata": {
        "id": "6eU2QJ--T4dd"
      },
      "source": [
        "# Reinforcement Learning project - Q-Learning\n",
        "\n",
        "\n"
      ]
    },
    {
      "cell_type": "markdown",
      "metadata": {
        "id": "6qdkwbpRUhzO"
      },
      "source": [
        "## Aim\n",
        "In this lab we are going to solve two simple [OpenAI Gym](https://gym.openai.com/) environments using [Q-Learning](https://en.wikipedia.org/wiki/Q-learning). Specifically, the [CartPole-v0](https://gym.openai.com/envs/CartPole-v0/) and [MountainCar-v0](https://gym.openai.com/envs/MountainCar-v0/) environments.\n",
        "\n",
        "We will try to create a table containing the expected reward for each combination of a *state* and *action*. We will use this table to choose the (hopefully) best action given the state the system is in.\n",
        "\n",
        "While this may not be the most advanced or complicated model there is, it is perfect for this task! Furthermore, it can be trained in a relatively short time!\n",
        "\n",
        "## Runtime and environment\n",
        "This [Jupyter Notebook](https://jupyterlab.readthedocs.io/en/latest/) was made to run on Google Colab. For this training, we recommend using the Google Colab environment.\n",
        "\n",
        "Please read the [instructions on Google Colab](https://medium.com/swlh/the-best-place-to-get-started-with-ai-google-colab-tutorial-for-beginners-715e64bb603b) to get started quickly. It behaves similar to Jupyter Notebook, Jupyter Hub and Jupyter Lab, so if you have any experience with those, you're good to go!\n",
        "\n",
        "Some notes on Google Colab:\n",
        "- **Processes in Google Colab won't run forever**. These may be terminated at any time when the platform is crowded, and *will definitely* terminate after 12 hours. To maintain persistency, you can attach the session to **Google Drive** and have your models persist themselves to the Google Drive periodically.\n",
        "- You can enable GPU or TPU support! You can find this option under *Runtime* -> *Change runtime type*.\n",
        "- After installing dependencies, you need to restart the runtime in order to actually use them.\n",
        "\n",
        "If you want to run the code on your own platform or system, you need to keep a few things in mind:\n",
        "- The dependencies you need to install may differ from the ones we installed here. The installed dependencies are suitable for Google Colab, Ubuntu, and Debian.\n",
        "- Since Google Colab isn't attached to a monitor, we render the output to a video file. On your own machine the built-in render method from OpenAI's Gym may suffice.\n",
        "- The default paths use Google Drive! Change these.\n",
        "\n",
        "## Info Support\n",
        "This assignment was developed by Info Support. Looking for a graduation project or job? Check out their website: https://carriere.infosupport.com/\n",
        "\n"
      ]
    },
    {
      "cell_type": "markdown",
      "metadata": {
        "id": "P7mfjQyuT_zV"
      },
      "source": [
        "# Preparation"
      ]
    },
    {
      "cell_type": "markdown",
      "metadata": {
        "id": "d_LwZ18PXsaL"
      },
      "source": [
        "Some dependencies need to be installed for the code to work. Furthermore, we will define some methods which allow us to show the OpenAI Gym renderings in this (headless) Google Colab environment.\n",
        "\n",
        "You only have to run these and don't need to change any of the code."
      ]
    },
    {
      "cell_type": "code",
      "metadata": {
        "id": "PBdwK87YUI9Y",
        "colab": {
          "base_uri": "https://localhost:8080/"
        },
        "outputId": "b5ecf312-9b89-4407-801b-3e14f9936a07"
      },
      "source": [
        "# Install dependencies\n",
        "\"\"\"Note: if you are running this code on your own machine, you probably don't need all of these.\n",
        "   Start with 'pip install gym' and install more packages if you run into errors.\"\"\"\n",
        "!apt-get update > /dev/null 2>&1\n",
        "!apt-get install -y xvfb python-opengl ffmpeg cmake > /dev/null 2>&1\n",
        "\n",
        "!pip install gym pyvirtualdisplay > /dev/null 2>&1\n",
        "!pip install --upgrade setuptools 2>&1\n",
        "!pip install ez_setup > /dev/null 2>&1\n",
        "!pip install gym[atari] > /dev/null 2>&1\n",
        "!pip install colabgymrender"
      ],
      "execution_count": 1,
      "outputs": [
        {
          "output_type": "stream",
          "text": [
            "Requirement already up-to-date: setuptools in /usr/local/lib/python3.7/dist-packages (56.2.0)\n",
            "Requirement already satisfied: colabgymrender in /usr/local/lib/python3.7/dist-packages (1.0.8)\n",
            "Requirement already satisfied: moviepy in /usr/local/lib/python3.7/dist-packages (from colabgymrender) (0.2.3.5)\n",
            "Requirement already satisfied: opencv-python in /usr/local/lib/python3.7/dist-packages (from colabgymrender) (4.1.2.30)\n",
            "Requirement already satisfied: pyvirtualdisplay in /usr/local/lib/python3.7/dist-packages (from colabgymrender) (2.1)\n",
            "Requirement already satisfied: ipython in /usr/local/lib/python3.7/dist-packages (from colabgymrender) (5.5.0)\n",
            "Requirement already satisfied: numpy in /usr/local/lib/python3.7/dist-packages (from moviepy->colabgymrender) (1.19.5)\n",
            "Requirement already satisfied: tqdm<5.0,>=4.11.2 in /usr/local/lib/python3.7/dist-packages (from moviepy->colabgymrender) (4.41.1)\n",
            "Requirement already satisfied: decorator<5.0,>=4.0.2 in /usr/local/lib/python3.7/dist-packages (from moviepy->colabgymrender) (4.4.2)\n",
            "Requirement already satisfied: imageio<3.0,>=2.1.2 in /usr/local/lib/python3.7/dist-packages (from moviepy->colabgymrender) (2.4.1)\n",
            "Requirement already satisfied: EasyProcess in /usr/local/lib/python3.7/dist-packages (from pyvirtualdisplay->colabgymrender) (0.3)\n",
            "Requirement already satisfied: pexpect; sys_platform != \"win32\" in /usr/local/lib/python3.7/dist-packages (from ipython->colabgymrender) (4.8.0)\n",
            "Requirement already satisfied: traitlets>=4.2 in /usr/local/lib/python3.7/dist-packages (from ipython->colabgymrender) (5.0.5)\n",
            "Requirement already satisfied: prompt-toolkit<2.0.0,>=1.0.4 in /usr/local/lib/python3.7/dist-packages (from ipython->colabgymrender) (1.0.18)\n",
            "Requirement already satisfied: pickleshare in /usr/local/lib/python3.7/dist-packages (from ipython->colabgymrender) (0.7.5)\n",
            "Requirement already satisfied: simplegeneric>0.8 in /usr/local/lib/python3.7/dist-packages (from ipython->colabgymrender) (0.8.1)\n",
            "Requirement already satisfied: pygments in /usr/local/lib/python3.7/dist-packages (from ipython->colabgymrender) (2.6.1)\n",
            "Requirement already satisfied: setuptools>=18.5 in /usr/local/lib/python3.7/dist-packages (from ipython->colabgymrender) (56.2.0)\n",
            "Requirement already satisfied: pillow in /usr/local/lib/python3.7/dist-packages (from imageio<3.0,>=2.1.2->moviepy->colabgymrender) (7.1.2)\n",
            "Requirement already satisfied: ptyprocess>=0.5 in /usr/local/lib/python3.7/dist-packages (from pexpect; sys_platform != \"win32\"->ipython->colabgymrender) (0.7.0)\n",
            "Requirement already satisfied: ipython-genutils in /usr/local/lib/python3.7/dist-packages (from traitlets>=4.2->ipython->colabgymrender) (0.2.0)\n",
            "Requirement already satisfied: wcwidth in /usr/local/lib/python3.7/dist-packages (from prompt-toolkit<2.0.0,>=1.0.4->ipython->colabgymrender) (0.2.5)\n",
            "Requirement already satisfied: six>=1.9.0 in /usr/local/lib/python3.7/dist-packages (from prompt-toolkit<2.0.0,>=1.0.4->ipython->colabgymrender) (1.15.0)\n"
          ],
          "name": "stdout"
        }
      ]
    },
    {
      "cell_type": "code",
      "metadata": {
        "id": "y7IG_wxod9mW"
      },
      "source": [
        "# Imports for helper functions\n",
        "import base64\n",
        "import io\n",
        "import math\n",
        "from pathlib import Path\n",
        "\n",
        "import gym\n",
        "import matplotlib\n",
        "import matplotlib.pyplot as plt\n",
        "import numpy as np\n",
        "from colabgymrender.recorder import Recorder\n",
        "from google.colab import drive\n",
        "from gym.wrappers import Monitor\n",
        "from IPython import display as ipythondisplay\n",
        "from IPython.display import HTML\n",
        "from pyvirtualdisplay import Display"
      ],
      "execution_count": 2,
      "outputs": []
    },
    {
      "cell_type": "code",
      "metadata": {
        "id": "MFDD54_Afgs4",
        "colab": {
          "base_uri": "https://localhost:8080/"
        },
        "outputId": "924f33fc-8931-4211-943e-92f714cd4e62"
      },
      "source": [
        "# Mount your Google Drive. By doing so, you can store any output, models, videos, and images persistently.\n",
        "drive.mount('/content/gdrive')"
      ],
      "execution_count": 3,
      "outputs": [
        {
          "output_type": "stream",
          "text": [
            "Drive already mounted at /content/gdrive; to attempt to forcibly remount, call drive.mount(\"/content/gdrive\", force_remount=True).\n"
          ],
          "name": "stdout"
        }
      ]
    },
    {
      "cell_type": "code",
      "metadata": {
        "id": "lJeiCQFRgnSj"
      },
      "source": [
        "# Create a directory to store the data for this lab. Feel free to change this.\n",
        "data_path = Path('/content/gdrive/My Drive/Colab Notebooks/HU_RL/part1')\n",
        "data_path.mkdir(parents=True, exist_ok=True)\n",
        "video_path = data_path / 'video'"
      ],
      "execution_count": 4,
      "outputs": []
    },
    {
      "cell_type": "code",
      "metadata": {
        "id": "rU2ZsnBEelqW",
        "colab": {
          "base_uri": "https://localhost:8080/"
        },
        "outputId": "eb8e3984-e82e-4c7d-cb71-46a1fb98e07c"
      },
      "source": [
        "# Define helper functions to visually show what the models are doing.\n",
        "%matplotlib inline\n",
        "\n",
        "gym.logger.set_level(gym.logger.ERROR)\n",
        "\n",
        "display = Display(visible=0, size=(1400, 900))\n",
        "display.start()\n",
        "\n",
        "def show_video():\n",
        "    # Display the stored video file\n",
        "    # Credits: https://star-ai.github.io/Rendering-OpenAi-Gym-in-Colaboratory/\n",
        "    mp4list = list(data_path.glob('video/*.mp4'))\n",
        "    if len(mp4list) > 0:\n",
        "        mp4 = mp4list[-1]\n",
        "        video = io.open(mp4, 'r+b').read()\n",
        "        encoded = base64.b64encode(video)\n",
        "        ipythondisplay.display(HTML(data='''<video alt=\"test\" autoplay \n",
        "                loop controls style=\"height: 400px;\">\n",
        "                <source src=\"data:video/mp4;base64,{0}\" type=\"video/mp4\" />\n",
        "            </video>'''.format(encoded.decode('ascii'))))\n",
        "    else: \n",
        "        print('Could not find video')\n",
        "\n",
        "\n",
        "def record_episode(idx):\n",
        "    # This determines which episodes to record.\n",
        "    # Since the video rendering in the OpenAI Gym is a bit buggy, we simply override it and decide\n",
        "    # whether or not to render inside of our training loop.\n",
        "    return True\n",
        "\n",
        "    \n",
        "def video_env(env):\n",
        "    # Wraps the environment to write its output to a video file\n",
        "    env = Monitor(env, video_path, video_callable=record_episode, force=True)\n",
        "    return env\n"
      ],
      "execution_count": 5,
      "outputs": [
        {
          "output_type": "execute_result",
          "data": {
            "text/plain": [
              "<pyvirtualdisplay.display.Display at 0x7f523ffc0190>"
            ]
          },
          "metadata": {
            "tags": []
          },
          "execution_count": 5
        }
      ]
    },
    {
      "cell_type": "markdown",
      "metadata": {
        "id": "ShMPjUFXiwli"
      },
      "source": [
        "# Test the environment"
      ]
    },
    {
      "cell_type": "code",
      "metadata": {
        "id": "u3hAfAGhi4KK",
        "colab": {
          "base_uri": "https://localhost:8080/"
        },
        "outputId": "1831120c-afb2-44ff-bf86-a8346237819d"
      },
      "source": [
        "print(\"\"\"We will use a basic OpenAI Gym examle: CartPole-v0.\n",
        "In this example, we will try to balance a pole on a cart.\n",
        "This is similar to kids (and.. grown-ups) trying to balance sticks on their hands.\n",
        "\n",
        "Check out the OpenAI Gym documentation to learn more: https://gym.openai.com/docs/\"\"\")\n",
        "\n",
        "# Create the desired environment\n",
        "env = gym.make(\"CartPole-v0\")\n",
        "\n",
        "# Wrap the environment, to make sure we get to see a fancy video\n",
        "env = video_env(env)\n",
        "\n",
        "# Before you can use a Gym environment, it needs to be reset.\n",
        "state = env.reset()\n",
        "\n",
        "# Perform random actions untill we drop the stick. Just as an example.\n",
        "done = False\n",
        "while not done:\n",
        "    # env.render()\n",
        "    # The action_space contains all possible actions we can take.\n",
        "    random_action = env.action_space.sample() \n",
        "\n",
        "    # After each action, we end up in a new state and receive a reward.\n",
        "    # When we drop the pole (more than 12 degrees), or balance it long enough (200 steps),\n",
        "    # or drive off the screen, done is set to True.\n",
        "    state, reward, done, info = env.step(random_action)\n",
        "\n",
        "# Show the results!\n",
        "env.close()\n",
        "# show_video()"
      ],
      "execution_count": 6,
      "outputs": [
        {
          "output_type": "stream",
          "text": [
            "We will use a basic OpenAI Gym examle: CartPole-v0.\n",
            "In this example, we will try to balance a pole on a cart.\n",
            "This is similar to kids (and.. grown-ups) trying to balance sticks on their hands.\n",
            "\n",
            "Check out the OpenAI Gym documentation to learn more: https://gym.openai.com/docs/\n"
          ],
          "name": "stdout"
        }
      ]
    },
    {
      "cell_type": "code",
      "metadata": {
        "id": "i-O3zaP6q4-E",
        "colab": {
          "base_uri": "https://localhost:8080/"
        },
        "outputId": "0a8a20c8-830f-4d82-f80a-4d225e07b42d"
      },
      "source": [
        "# Neat, it did something (randomly)! \n",
        "\n",
        "# In order to train the system, we will try to predict the reward a certain actions yields given the state of the system.\n",
        "# But what is the state anyway?\n",
        "\n",
        "# In this environment, the state represents the cart's position and velocity, and the pole's angle and velocity.\n",
        "\n",
        "# Let's check out the current state\n",
        "print(f'Cart position: {state[0]} (range: [-4.8, 4.8])')\n",
        "print(f'Cart velocity: {state[1]} (range: [-inf, inf])')\n",
        "print(f'Pole angle: {state[2]} (range: [-0.418, 0.418])')\n",
        "print(f'Pole velocity: {state[3]} (range [-inf, inf])')\n",
        "\n",
        "# You can find out the minimum and maximum possible observation values using:\n",
        "print(f'Low observation space:', env.observation_space.low)\n",
        "print(f'High observation space:', env.observation_space.high)"
      ],
      "execution_count": 7,
      "outputs": [
        {
          "output_type": "stream",
          "text": [
            "Cart position: 0.21472046391556382 (range: [-4.8, 4.8])\n",
            "Cart velocity: 0.10632838272798747 (range: [-inf, inf])\n",
            "Pole angle: 0.21589941693404902 (range: [-0.418, 0.418])\n",
            "Pole velocity: 1.0254814090491484 (range [-inf, inf])\n",
            "Low observation space: [-4.8000002e+00 -3.4028235e+38 -4.1887903e-01 -3.4028235e+38]\n",
            "High observation space: [4.8000002e+00 3.4028235e+38 4.1887903e-01 3.4028235e+38]\n"
          ],
          "name": "stdout"
        }
      ]
    },
    {
      "cell_type": "markdown",
      "metadata": {
        "id": "nhQlBt2hUAQ2"
      },
      "source": [
        "# Implement Q-Learning"
      ]
    },
    {
      "cell_type": "markdown",
      "metadata": {
        "id": "HFsyJOo5GrZe"
      },
      "source": [
        "## Task\n",
        "Implement Q-Learning and find suitable parameters to reach a 200 reward."
      ]
    },
    {
      "cell_type": "code",
      "metadata": {
        "id": "eDvyHdRyRtdq"
      },
      "source": [
        "# Define parameters - Fill in the dots\n",
        "\n",
        "num_episodes = 20_000\n",
        "num_episodes_between_status_update = 5_000\n",
        "num_episodes_between_videos = num_episodes\n",
        "\n",
        "learning_rate = 0.005        # also known as: alpha\n",
        "discount = 0.95              # also known as: gamma\n",
        "epsilon = 0.99\n",
        "\n",
        "# Epsilon decay\n",
        "pass    # Optionally, add parameters for epsilon decay here\n",
        "\n",
        "# Discretization\n",
        "pass    # You can add parameters to discretize states here"
      ],
      "execution_count": 28,
      "outputs": []
    },
    {
      "cell_type": "code",
      "metadata": {
        "id": "T0S8rYCWT15s",
        "colab": {
          "base_uri": "https://localhost:8080/"
        },
        "outputId": "ccb3fd94-2aae-4bc8-8317-cdd3aa1a53d3"
      },
      "source": [
        "## Q-Table creation\n",
        "\n",
        "# As seen before, the state consists of 4 floating point values.\n",
        "# It makes sense to discretize these values (read: place them in buckets), to reduce the state space and therefore the Q-table size\n",
        "# state_shape = [5, 101, 203, 157]      # For instance: [4, 4, 6, 6], or [10] * 4, or [200, 200, 100, 100]\n",
        "# state_shape = [5, 5, 5, 5]      # For instance: [4, 4, 6, 6], or [10] * 4, or [200, 200, 100, 100]\n",
        "state_shape = [35, 35, 51, 51]      # For instance: [4, 4, 6, 6], or [10] * 4, or [200, 200, 100, 100]\n",
        "\n",
        "# Define the initial Q table as a random uniform distribution\n",
        "q_table = np.random.uniform(low=-1, high=0, size=(state_shape + [env.action_space.n]))\n",
        "\n",
        "space_space = np.vstack((env.observation_space.low, env.observation_space.high, state_shape)).T\n",
        "space_space[1,:2] = np.clip(space_space[1,:2], -2, 2)\n",
        "space_space[3,:2] = np.clip(space_space[3,:2], -2, 2)\n",
        "space_space_linspace = [np.linspace(low, high, num=int(num)) for low, high, num in space_space]\n",
        "print(len(space_space_linspace), [len(space_linspace) for space_linspace in space_space_linspace])\n",
        "\n",
        "print('Q table shape:', q_table.shape)"
      ],
      "execution_count": 32,
      "outputs": [
        {
          "output_type": "stream",
          "text": [
            "4 [35, 35, 51, 51]\n",
            "Q table shape: (35, 35, 51, 51, 2)\n"
          ],
          "name": "stdout"
        }
      ]
    },
    {
      "cell_type": "markdown",
      "metadata": {
        "id": "-4Cp8cNtUcDf"
      },
      "source": [
        "# Train\n"
      ]
    },
    {
      "cell_type": "code",
      "metadata": {
        "id": "9SMMA_KceHrx"
      },
      "source": [
        "def discretize_state(state, bins=space_space_linspace):\n",
        "    # A Q-table cannot practically handle infinite states, so limit the state space by\n",
        "    # discretizing the state into buckets.\n",
        "    discrete_state = np.array([np.clip(np.digitize(s, bun), 0, shape-1) for s, bun, shape in zip(state, bins, state_shape)])\n",
        "    # print(state)\n",
        "    # print(discrete_state)\n",
        "    return tuple(discrete_state.astype(np.int))\n",
        "\n",
        "def take_action(discrete_state, epsilon, q_table=q_table,\n",
        "                rng=np.random.default_rng(), env=env):\n",
        "    # Take an action to either explore or exploit.\n",
        "    if rng.random() > epsilon:\n",
        "      # Exploit\n",
        "      action = np.argmax(q_table[discrete_state])\n",
        "    else:\n",
        "      # Explore\n",
        "      action = rng.integers(env.action_space.n)\n",
        "    return action\n",
        "\n",
        "def estimated_max_for_next_state(discrete_state, q_table=q_table):\n",
        "    # What's the best expected Q-value for the next state?\n",
        "    estimated_max = np.max(q_table[discrete_state])\n",
        "    return estimated_max\n",
        "\n",
        "def new_q_value(discrete_state, action, max_future_q, reward, q_table=q_table,\n",
        "                learning_rate=learning_rate, discount=discount):\n",
        "    # Calculate the new Q-value\n",
        "    current_q = q_table[discrete_state + (action,)]\n",
        "    new_q = current_q + learning_rate * (reward + discount * max_future_q - current_q)\n",
        "    return new_q\n",
        "\n",
        "def decayed_epsilon(episode, epsilon_max: float = 0.99, epsilon_min: float = 0.01, steps: int = 10_000):\n",
        "    if episode > steps:\n",
        "        return epsilon_min\n",
        "    else:\n",
        "        epsilon_per_step = (epsilon_max - epsilon_min) / steps\n",
        "        return epsilon_max - epsilon_per_step * episode"
      ],
      "execution_count": 39,
      "outputs": []
    },
    {
      "cell_type": "code",
      "metadata": {
        "id": "iMUc3G164cA7",
        "colab": {
          "base_uri": "https://localhost:8080/",
          "height": 555
        },
        "outputId": "e69dca53-d7ab-4b16-e9fa-9fd44a02a700"
      },
      "source": [
        "# Time to train the system\n",
        "cart_states = []\n",
        "pole_states = []\n",
        "\n",
        "for episode in range(num_episodes):\n",
        "    state = env.reset() # Don't forget to reset the environment between episodes\n",
        "    current_state_disc = discretize_state(state)\n",
        "\n",
        "    reward_sum = 0\n",
        "    done = False\n",
        "    while not done:\n",
        "        # env.render()\n",
        "        if (episode + 1) % num_episodes_between_videos == 0:\n",
        "            env.render()\n",
        "\n",
        "        # Take an action by exploration or exploitation\n",
        "        action = take_action(current_state_disc, epsilon)\n",
        "        new_state, reward, done, info = env.step(action)\n",
        "        new_state_disc = discretize_state(new_state)\n",
        "\n",
        "        cart_states.append(new_state[1])\n",
        "        pole_states.append(new_state[3])\n",
        "\n",
        "        # Calculate the total reward\n",
        "        reward_sum += reward\n",
        "\n",
        "        if not done:\n",
        "            # Retrieve the maximum estimated value for the next state\n",
        "            max_future_q = estimated_max_for_next_state(new_state_disc)\n",
        "\n",
        "            # Calculate the new value (note: Bellman equation)\n",
        "            # Added reward as argument for Bellman equation (Casper & Thijs)\n",
        "            new_q = new_q_value(current_state_disc, action, max_future_q, reward)\n",
        "            q_table[current_state_disc + (action,)] = new_q\n",
        "        else:\n",
        "            # Render the video\n",
        "            if (episode + 1) % num_episodes_between_status_update == 0:\n",
        "                env.render()\n",
        "                print(epsilon)\n",
        "                print(f'Total reward at episode {episode + 1}: {reward_sum}')\n",
        "\n",
        "        # Prepare for the next loop\n",
        "        current_state_disc = new_state_disc\n",
        "\n",
        "    # Decay epsilon\n",
        "    epsilon = decayed_epsilon(episode)\n",
        "\n",
        "env.close()\n",
        "show_video()"
      ],
      "execution_count": 40,
      "outputs": [
        {
          "output_type": "execute_result",
          "data": {
            "text/plain": [
              "True"
            ]
          },
          "metadata": {
            "tags": []
          },
          "execution_count": 40
        },
        {
          "output_type": "stream",
          "text": [
            "0.5001960000000001\n",
            "Total reward at episode 5000: 57.0\n"
          ],
          "name": "stdout"
        },
        {
          "output_type": "execute_result",
          "data": {
            "text/plain": [
              "True"
            ]
          },
          "metadata": {
            "tags": []
          },
          "execution_count": 40
        },
        {
          "output_type": "stream",
          "text": [
            "0.010195999999999983\n",
            "Total reward at episode 10000: 64.0\n"
          ],
          "name": "stdout"
        },
        {
          "output_type": "execute_result",
          "data": {
            "text/plain": [
              "True"
            ]
          },
          "metadata": {
            "tags": []
          },
          "execution_count": 40
        },
        {
          "output_type": "stream",
          "text": [
            "0.01\n",
            "Total reward at episode 15000: 23.0\n"
          ],
          "name": "stdout"
        },
        {
          "output_type": "execute_result",
          "data": {
            "text/plain": [
              "True"
            ]
          },
          "metadata": {
            "tags": []
          },
          "execution_count": 40
        },
        {
          "output_type": "execute_result",
          "data": {
            "text/plain": [
              "True"
            ]
          },
          "metadata": {
            "tags": []
          },
          "execution_count": 40
        },
        {
          "output_type": "execute_result",
          "data": {
            "text/plain": [
              "True"
            ]
          },
          "metadata": {
            "tags": []
          },
          "execution_count": 40
        },
        {
          "output_type": "execute_result",
          "data": {
            "text/plain": [
              "True"
            ]
          },
          "metadata": {
            "tags": []
          },
          "execution_count": 40
        },
        {
          "output_type": "execute_result",
          "data": {
            "text/plain": [
              "True"
            ]
          },
          "metadata": {
            "tags": []
          },
          "execution_count": 40
        },
        {
          "output_type": "execute_result",
          "data": {
            "text/plain": [
              "True"
            ]
          },
          "metadata": {
            "tags": []
          },
          "execution_count": 40
        },
        {
          "output_type": "execute_result",
          "data": {
            "text/plain": [
              "True"
            ]
          },
          "metadata": {
            "tags": []
          },
          "execution_count": 40
        },
        {
          "output_type": "execute_result",
          "data": {
            "text/plain": [
              "True"
            ]
          },
          "metadata": {
            "tags": []
          },
          "execution_count": 40
        },
        {
          "output_type": "execute_result",
          "data": {
            "text/plain": [
              "True"
            ]
          },
          "metadata": {
            "tags": []
          },
          "execution_count": 40
        },
        {
          "output_type": "execute_result",
          "data": {
            "text/plain": [
              "True"
            ]
          },
          "metadata": {
            "tags": []
          },
          "execution_count": 40
        },
        {
          "output_type": "execute_result",
          "data": {
            "text/plain": [
              "True"
            ]
          },
          "metadata": {
            "tags": []
          },
          "execution_count": 40
        },
        {
          "output_type": "execute_result",
          "data": {
            "text/plain": [
              "True"
            ]
          },
          "metadata": {
            "tags": []
          },
          "execution_count": 40
        },
        {
          "output_type": "execute_result",
          "data": {
            "text/plain": [
              "True"
            ]
          },
          "metadata": {
            "tags": []
          },
          "execution_count": 40
        },
        {
          "output_type": "execute_result",
          "data": {
            "text/plain": [
              "True"
            ]
          },
          "metadata": {
            "tags": []
          },
          "execution_count": 40
        },
        {
          "output_type": "execute_result",
          "data": {
            "text/plain": [
              "True"
            ]
          },
          "metadata": {
            "tags": []
          },
          "execution_count": 40
        },
        {
          "output_type": "execute_result",
          "data": {
            "text/plain": [
              "True"
            ]
          },
          "metadata": {
            "tags": []
          },
          "execution_count": 40
        },
        {
          "output_type": "execute_result",
          "data": {
            "text/plain": [
              "True"
            ]
          },
          "metadata": {
            "tags": []
          },
          "execution_count": 40
        },
        {
          "output_type": "execute_result",
          "data": {
            "text/plain": [
              "True"
            ]
          },
          "metadata": {
            "tags": []
          },
          "execution_count": 40
        },
        {
          "output_type": "stream",
          "text": [
            "0.01\n",
            "Total reward at episode 20000: 17.0\n"
          ],
          "name": "stdout"
        },
        {
          "output_type": "display_data",
          "data": {
            "text/html": [
              "<video alt=\"test\" autoplay \n",
              "                loop controls style=\"height: 400px;\">\n",
              "                <source src=\"data:video/mp4;base64,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\" type=\"video/mp4\" />\n",
              "            </video>"
            ],
            "text/plain": [
              "<IPython.core.display.HTML object>"
            ]
          },
          "metadata": {
            "tags": []
          }
        }
      ]
    },
    {
      "cell_type": "code",
      "metadata": {
        "id": "HykGccgK2_bb",
        "outputId": "64aef897-9a1f-4c94-b73e-60fe5c0425fc",
        "colab": {
          "base_uri": "https://localhost:8080/"
        }
      },
      "source": [
        "len(cart_states)"
      ],
      "execution_count": 15,
      "outputs": [
        {
          "output_type": "execute_result",
          "data": {
            "text/plain": [
              "802834"
            ]
          },
          "metadata": {
            "tags": []
          },
          "execution_count": 15
        }
      ]
    },
    {
      "cell_type": "code",
      "metadata": {
        "id": "GQs2Ff_R3V3_",
        "outputId": "76552cdf-f995-4779-9122-811f914540dd",
        "colab": {
          "base_uri": "https://localhost:8080/",
          "height": 1000
        }
      },
      "source": [
        "import matplotlib.pylab as plt\n",
        "\n",
        "%matplotlib inline\n",
        "plt.hist(pole_states, bins=51)\n",
        "plt.hist(cart_states, bins=51)\n",
        "plt.show()"
      ],
      "execution_count": 22,
      "outputs": [
        {
          "output_type": "execute_result",
          "data": {
            "text/plain": [
              "(array([2.00000e+00, 1.00000e+00, 3.00000e+00, 2.10000e+01, 3.60000e+01,\n",
              "        7.90000e+01, 1.55000e+02, 4.43000e+02, 4.70000e+02, 1.30600e+03,\n",
              "        1.54100e+03, 1.69300e+03, 2.68200e+03, 2.82000e+03, 4.10600e+03,\n",
              "        4.99000e+03, 7.19800e+03, 9.36600e+03, 1.01670e+04, 1.29890e+04,\n",
              "        1.51150e+04, 2.02860e+04, 2.66070e+04, 4.68770e+04, 8.65160e+04,\n",
              "        8.35180e+04, 1.11473e+05, 8.26080e+04, 9.01590e+04, 3.36690e+04,\n",
              "        4.38380e+04, 2.14100e+04, 1.63160e+04, 1.69390e+04, 1.06980e+04,\n",
              "        9.75100e+03, 7.36000e+03, 4.92200e+03, 5.47700e+03, 2.70400e+03,\n",
              "        2.35000e+03, 1.45200e+03, 8.81000e+02, 8.02000e+02, 3.71000e+02,\n",
              "        3.16000e+02, 2.14000e+02, 5.50000e+01, 5.00000e+01, 2.70000e+01,\n",
              "        5.00000e+00]),\n",
              " array([-3.51529416, -3.38136536, -3.24743655, -3.11350775, -2.97957895,\n",
              "        -2.84565014, -2.71172134, -2.57779254, -2.44386373, -2.30993493,\n",
              "        -2.17600613, -2.04207732, -1.90814852, -1.77421972, -1.64029091,\n",
              "        -1.50636211, -1.37243331, -1.2385045 , -1.1045757 , -0.9706469 ,\n",
              "        -0.83671809, -0.70278929, -0.56886049, -0.43493168, -0.30100288,\n",
              "        -0.16707408, -0.03314527,  0.10078353,  0.23471233,  0.36864113,\n",
              "         0.50256994,  0.63649874,  0.77042754,  0.90435635,  1.03828515,\n",
              "         1.17221395,  1.30614276,  1.44007156,  1.57400036,  1.70792917,\n",
              "         1.84185797,  1.97578677,  2.10971558,  2.24364438,  2.37757318,\n",
              "         2.51150199,  2.64543079,  2.77935959,  2.9132884 ,  3.0472172 ,\n",
              "         3.181146  ,  3.31507481]),\n",
              " <a list of 51 Patch objects>)"
            ]
          },
          "metadata": {
            "tags": []
          },
          "execution_count": 22
        },
        {
          "output_type": "execute_result",
          "data": {
            "text/plain": [
              "(array([2.00000e+00, 5.00000e+00, 3.30000e+01, 3.30000e+01, 5.40000e+01,\n",
              "        1.25000e+02, 1.11000e+02, 1.43000e+02, 3.50000e+02, 6.06000e+02,\n",
              "        7.07000e+02, 1.08600e+03, 2.47700e+03, 2.60300e+03, 2.50300e+03,\n",
              "        5.74500e+03, 7.63600e+03, 6.65200e+03, 1.89680e+04, 2.94390e+04,\n",
              "        2.64460e+04, 9.16200e+04, 1.57592e+05, 7.20830e+04, 1.41468e+05,\n",
              "        1.05513e+05, 1.87140e+04, 3.30020e+04, 2.53350e+04, 7.92800e+03,\n",
              "        1.25430e+04, 1.30960e+04, 3.95900e+03, 4.90800e+03, 3.97000e+03,\n",
              "        1.34500e+03, 1.28200e+03, 1.55700e+03, 5.73000e+02, 2.96000e+02,\n",
              "        1.51000e+02, 7.80000e+01, 3.00000e+01, 1.30000e+01, 1.80000e+01,\n",
              "        1.00000e+01, 1.00000e+01, 4.00000e+00, 7.00000e+00, 2.00000e+00,\n",
              "        3.00000e+00]),\n",
              " array([-3.18501663, -3.05336667, -2.92171672, -2.79006676, -2.65841681,\n",
              "        -2.52676685, -2.3951169 , -2.26346694, -2.13181699, -2.00016703,\n",
              "        -1.86851708, -1.73686712, -1.60521717, -1.47356721, -1.34191726,\n",
              "        -1.2102673 , -1.07861735, -0.94696739, -0.81531744, -0.68366748,\n",
              "        -0.55201753, -0.42036757, -0.28871762, -0.15706766, -0.02541771,\n",
              "         0.10623225,  0.2378822 ,  0.36953216,  0.50118211,  0.63283207,\n",
              "         0.76448202,  0.89613198,  1.02778193,  1.15943189,  1.29108184,\n",
              "         1.4227318 ,  1.55438175,  1.68603171,  1.81768166,  1.94933162,\n",
              "         2.08098157,  2.21263153,  2.34428148,  2.47593144,  2.60758139,\n",
              "         2.73923135,  2.8708813 ,  3.00253126,  3.13418121,  3.26583117,\n",
              "         3.39748112,  3.52913108]),\n",
              " <a list of 51 Patch objects>)"
            ]
          },
          "metadata": {
            "tags": []
          },
          "execution_count": 22
        },
        {
          "output_type": "display_data",
          "data": {
            "image/png": "[encoded data removed]",
            "text/plain": [
              "<Figure size 432x288 with 1 Axes>"
            ]
          },
          "metadata": {
            "tags": [],
            "needs_background": "light"
          }
        }
      ]
    },
    {
      "cell_type": "markdown",
      "metadata": {
        "id": "7RbC9GKag15q"
      },
      "source": [
        "# MountainCar\n"
      ]
    },
    {
      "cell_type": "markdown",
      "metadata": {
        "id": "_0oyL2bxg_1j"
      },
      "source": [
        "Now apply the things you've learned to the MountainCar problem. Please note that the observable space differs from the previous problem. Thus, before you start training, you need to learn more about thethis new environment.\n",
        "\n",
        "Here is some code to help you get started.."
      ]
    },
    {
      "cell_type": "code",
      "metadata": {
        "id": "hWzVnM10g4Oc"
      },
      "source": [
        "# # Create the desired environment\n",
        "# env = gym.make(\"MountainCar-v0\")\n",
        "\n",
        "# # Wrap the environment, to make sure we get to see a fancy video\n",
        "# env = video_env(env)\n",
        "\n",
        "# # Before you can use a Gym environment, it needs to be reset.\n",
        "# state = env.reset()\n",
        "\n",
        "# # Perform random actions untill we drop the stick. Just as an example.\n",
        "# done = False\n",
        "# while not done:\n",
        "   \n",
        "#     # Explore and take actions\n",
        "#     pass\n",
        "\n",
        "#     # Remove the line below when you have created an implementation you want to test.\n",
        "#     done = True\n",
        "\n",
        "# # Show the results!\n",
        "# env.close()\n",
        "# show_video()"
      ],
      "execution_count": 12,
      "outputs": []
    }
  ]
}